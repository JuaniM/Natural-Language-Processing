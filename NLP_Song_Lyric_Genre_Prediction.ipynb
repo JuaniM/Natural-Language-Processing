{
  "cells": [
    {
      "cell_type": "markdown",
      "metadata": {
        "id": "b93jEdOFcWCb"
      },
      "source": [
        "## Retrieving and preparing the Data\n"
      ]
    },
    {
      "cell_type": "code",
      "execution_count": 1,
      "metadata": {
        "id": "q9ZTPCywcRRf"
      },
      "outputs": [],
      "source": [
        "import tensorflow as tf\n",
        "from tensorflow import keras\n",
        "import numpy as np\n",
        "import pandas as pd\n",
        "import matplotlib.pyplot as plt\n",
        "from google.colab import drive\n",
        "\n",
        "keras.utils.set_random_seed(42)"
      ]
    },
    {
      "cell_type": "code",
      "execution_count": 17,
      "metadata": {
        "id": "ZH-Rm_Soce0s",
        "colab": {
          "base_uri": "https://localhost:8080/"
        },
        "outputId": "41adf201-689e-409c-f7e5-cacebff1af5d"
      },
      "outputs": [
        {
          "output_type": "stream",
          "name": "stdout",
          "text": [
            "Mounted at /content/drive\n",
            "\n",
            "Train samples: 48991\n",
            "Validation samples: 16331\n",
            "Test samples: 21774\n",
            "\n"
          ]
        }
      ],
      "source": [
        "drive.mount('/content/drive', force_remount=True)\n",
        "\n",
        "train_df = pd.read_csv(\"/content/drive/MyDrive/GitHub/NLP/lyric_genre_train.csv\", index_col=0).astype(str)\n",
        "test_df = pd.read_csv(\"/content/drive/MyDrive/GitHub/NLP/lyric_genre_test.csv\", index_col=0).astype(str)\n",
        "val_df = pd.read_csv(\"/content/drive/MyDrive/GitHub/NLP/lyric_genre_val.csv\", index_col=0).astype(str)\n",
        "\n",
        "print(f\"\"\"\n",
        "Train samples: {train_df.shape[0]}\n",
        "Validation samples: {val_df.shape[0]}\n",
        "Test samples: {test_df.shape[0]}\n",
        "\"\"\")"
      ]
    },
    {
      "cell_type": "code",
      "execution_count": 18,
      "metadata": {
        "id": "b0LMtt6CchSC",
        "colab": {
          "base_uri": "https://localhost:8080/",
          "height": 206
        },
        "outputId": "8379d478-19cd-4f69-eb72-46df0e2463af"
      },
      "outputs": [
        {
          "output_type": "execute_result",
          "data": {
            "text/plain": [
              "                                               Lyric Genre\n",
              "0  Oh, girl. I can't get ready (Can't get ready f...   Pop\n",
              "1  We met on a rainy evening in the summertime. D...   Pop\n",
              "2  We carried you in our arms. On Independence Da...  Rock\n",
              "3  I know he loved you. A long time ago. I ain't ...   Pop\n",
              "4  Paralysis through analysis. Yellow moral uncle...  Rock"
            ],
            "text/html": [
              "\n",
              "  <div id=\"df-fa7231b0-0e8c-4be7-99a8-d43f1d598f7e\" class=\"colab-df-container\">\n",
              "    <div>\n",
              "<style scoped>\n",
              "    .dataframe tbody tr th:only-of-type {\n",
              "        vertical-align: middle;\n",
              "    }\n",
              "\n",
              "    .dataframe tbody tr th {\n",
              "        vertical-align: top;\n",
              "    }\n",
              "\n",
              "    .dataframe thead th {\n",
              "        text-align: right;\n",
              "    }\n",
              "</style>\n",
              "<table border=\"1\" class=\"dataframe\">\n",
              "  <thead>\n",
              "    <tr style=\"text-align: right;\">\n",
              "      <th></th>\n",
              "      <th>Lyric</th>\n",
              "      <th>Genre</th>\n",
              "    </tr>\n",
              "  </thead>\n",
              "  <tbody>\n",
              "    <tr>\n",
              "      <th>0</th>\n",
              "      <td>Oh, girl. I can't get ready (Can't get ready f...</td>\n",
              "      <td>Pop</td>\n",
              "    </tr>\n",
              "    <tr>\n",
              "      <th>1</th>\n",
              "      <td>We met on a rainy evening in the summertime. D...</td>\n",
              "      <td>Pop</td>\n",
              "    </tr>\n",
              "    <tr>\n",
              "      <th>2</th>\n",
              "      <td>We carried you in our arms. On Independence Da...</td>\n",
              "      <td>Rock</td>\n",
              "    </tr>\n",
              "    <tr>\n",
              "      <th>3</th>\n",
              "      <td>I know he loved you. A long time ago. I ain't ...</td>\n",
              "      <td>Pop</td>\n",
              "    </tr>\n",
              "    <tr>\n",
              "      <th>4</th>\n",
              "      <td>Paralysis through analysis. Yellow moral uncle...</td>\n",
              "      <td>Rock</td>\n",
              "    </tr>\n",
              "  </tbody>\n",
              "</table>\n",
              "</div>\n",
              "    <div class=\"colab-df-buttons\">\n",
              "\n",
              "  <div class=\"colab-df-container\">\n",
              "    <button class=\"colab-df-convert\" onclick=\"convertToInteractive('df-fa7231b0-0e8c-4be7-99a8-d43f1d598f7e')\"\n",
              "            title=\"Convert this dataframe to an interactive table.\"\n",
              "            style=\"display:none;\">\n",
              "\n",
              "  <svg xmlns=\"http://www.w3.org/2000/svg\" height=\"24px\" viewBox=\"0 -960 960 960\">\n",
              "    <path d=\"M120-120v-720h720v720H120Zm60-500h600v-160H180v160Zm220 220h160v-160H400v160Zm0 220h160v-160H400v160ZM180-400h160v-160H180v160Zm440 0h160v-160H620v160ZM180-180h160v-160H180v160Zm440 0h160v-160H620v160Z\"/>\n",
              "  </svg>\n",
              "    </button>\n",
              "\n",
              "  <style>\n",
              "    .colab-df-container {\n",
              "      display:flex;\n",
              "      gap: 12px;\n",
              "    }\n",
              "\n",
              "    .colab-df-convert {\n",
              "      background-color: #E8F0FE;\n",
              "      border: none;\n",
              "      border-radius: 50%;\n",
              "      cursor: pointer;\n",
              "      display: none;\n",
              "      fill: #1967D2;\n",
              "      height: 32px;\n",
              "      padding: 0 0 0 0;\n",
              "      width: 32px;\n",
              "    }\n",
              "\n",
              "    .colab-df-convert:hover {\n",
              "      background-color: #E2EBFA;\n",
              "      box-shadow: 0px 1px 2px rgba(60, 64, 67, 0.3), 0px 1px 3px 1px rgba(60, 64, 67, 0.15);\n",
              "      fill: #174EA6;\n",
              "    }\n",
              "\n",
              "    .colab-df-buttons div {\n",
              "      margin-bottom: 4px;\n",
              "    }\n",
              "\n",
              "    [theme=dark] .colab-df-convert {\n",
              "      background-color: #3B4455;\n",
              "      fill: #D2E3FC;\n",
              "    }\n",
              "\n",
              "    [theme=dark] .colab-df-convert:hover {\n",
              "      background-color: #434B5C;\n",
              "      box-shadow: 0px 1px 3px 1px rgba(0, 0, 0, 0.15);\n",
              "      filter: drop-shadow(0px 1px 2px rgba(0, 0, 0, 0.3));\n",
              "      fill: #FFFFFF;\n",
              "    }\n",
              "  </style>\n",
              "\n",
              "    <script>\n",
              "      const buttonEl =\n",
              "        document.querySelector('#df-fa7231b0-0e8c-4be7-99a8-d43f1d598f7e button.colab-df-convert');\n",
              "      buttonEl.style.display =\n",
              "        google.colab.kernel.accessAllowed ? 'block' : 'none';\n",
              "\n",
              "      async function convertToInteractive(key) {\n",
              "        const element = document.querySelector('#df-fa7231b0-0e8c-4be7-99a8-d43f1d598f7e');\n",
              "        const dataTable =\n",
              "          await google.colab.kernel.invokeFunction('convertToInteractive',\n",
              "                                                    [key], {});\n",
              "        if (!dataTable) return;\n",
              "\n",
              "        const docLinkHtml = 'Like what you see? Visit the ' +\n",
              "          '<a target=\"_blank\" href=https://colab.research.google.com/notebooks/data_table.ipynb>data table notebook</a>'\n",
              "          + ' to learn more about interactive tables.';\n",
              "        element.innerHTML = '';\n",
              "        dataTable['output_type'] = 'display_data';\n",
              "        await google.colab.output.renderOutput(dataTable, element);\n",
              "        const docLink = document.createElement('div');\n",
              "        docLink.innerHTML = docLinkHtml;\n",
              "        element.appendChild(docLink);\n",
              "      }\n",
              "    </script>\n",
              "  </div>\n",
              "\n",
              "\n",
              "<div id=\"df-5a5013dd-f4a6-48e0-b19e-76b8a767979c\">\n",
              "  <button class=\"colab-df-quickchart\" onclick=\"quickchart('df-5a5013dd-f4a6-48e0-b19e-76b8a767979c')\"\n",
              "            title=\"Suggest charts\"\n",
              "            style=\"display:none;\">\n",
              "\n",
              "<svg xmlns=\"http://www.w3.org/2000/svg\" height=\"24px\"viewBox=\"0 0 24 24\"\n",
              "     width=\"24px\">\n",
              "    <g>\n",
              "        <path d=\"M19 3H5c-1.1 0-2 .9-2 2v14c0 1.1.9 2 2 2h14c1.1 0 2-.9 2-2V5c0-1.1-.9-2-2-2zM9 17H7v-7h2v7zm4 0h-2V7h2v10zm4 0h-2v-4h2v4z\"/>\n",
              "    </g>\n",
              "</svg>\n",
              "  </button>\n",
              "\n",
              "<style>\n",
              "  .colab-df-quickchart {\n",
              "      --bg-color: #E8F0FE;\n",
              "      --fill-color: #1967D2;\n",
              "      --hover-bg-color: #E2EBFA;\n",
              "      --hover-fill-color: #174EA6;\n",
              "      --disabled-fill-color: #AAA;\n",
              "      --disabled-bg-color: #DDD;\n",
              "  }\n",
              "\n",
              "  [theme=dark] .colab-df-quickchart {\n",
              "      --bg-color: #3B4455;\n",
              "      --fill-color: #D2E3FC;\n",
              "      --hover-bg-color: #434B5C;\n",
              "      --hover-fill-color: #FFFFFF;\n",
              "      --disabled-bg-color: #3B4455;\n",
              "      --disabled-fill-color: #666;\n",
              "  }\n",
              "\n",
              "  .colab-df-quickchart {\n",
              "    background-color: var(--bg-color);\n",
              "    border: none;\n",
              "    border-radius: 50%;\n",
              "    cursor: pointer;\n",
              "    display: none;\n",
              "    fill: var(--fill-color);\n",
              "    height: 32px;\n",
              "    padding: 0;\n",
              "    width: 32px;\n",
              "  }\n",
              "\n",
              "  .colab-df-quickchart:hover {\n",
              "    background-color: var(--hover-bg-color);\n",
              "    box-shadow: 0 1px 2px rgba(60, 64, 67, 0.3), 0 1px 3px 1px rgba(60, 64, 67, 0.15);\n",
              "    fill: var(--button-hover-fill-color);\n",
              "  }\n",
              "\n",
              "  .colab-df-quickchart-complete:disabled,\n",
              "  .colab-df-quickchart-complete:disabled:hover {\n",
              "    background-color: var(--disabled-bg-color);\n",
              "    fill: var(--disabled-fill-color);\n",
              "    box-shadow: none;\n",
              "  }\n",
              "\n",
              "  .colab-df-spinner {\n",
              "    border: 2px solid var(--fill-color);\n",
              "    border-color: transparent;\n",
              "    border-bottom-color: var(--fill-color);\n",
              "    animation:\n",
              "      spin 1s steps(1) infinite;\n",
              "  }\n",
              "\n",
              "  @keyframes spin {\n",
              "    0% {\n",
              "      border-color: transparent;\n",
              "      border-bottom-color: var(--fill-color);\n",
              "      border-left-color: var(--fill-color);\n",
              "    }\n",
              "    20% {\n",
              "      border-color: transparent;\n",
              "      border-left-color: var(--fill-color);\n",
              "      border-top-color: var(--fill-color);\n",
              "    }\n",
              "    30% {\n",
              "      border-color: transparent;\n",
              "      border-left-color: var(--fill-color);\n",
              "      border-top-color: var(--fill-color);\n",
              "      border-right-color: var(--fill-color);\n",
              "    }\n",
              "    40% {\n",
              "      border-color: transparent;\n",
              "      border-right-color: var(--fill-color);\n",
              "      border-top-color: var(--fill-color);\n",
              "    }\n",
              "    60% {\n",
              "      border-color: transparent;\n",
              "      border-right-color: var(--fill-color);\n",
              "    }\n",
              "    80% {\n",
              "      border-color: transparent;\n",
              "      border-right-color: var(--fill-color);\n",
              "      border-bottom-color: var(--fill-color);\n",
              "    }\n",
              "    90% {\n",
              "      border-color: transparent;\n",
              "      border-bottom-color: var(--fill-color);\n",
              "    }\n",
              "  }\n",
              "</style>\n",
              "\n",
              "  <script>\n",
              "    async function quickchart(key) {\n",
              "      const quickchartButtonEl =\n",
              "        document.querySelector('#' + key + ' button');\n",
              "      quickchartButtonEl.disabled = true;  // To prevent multiple clicks.\n",
              "      quickchartButtonEl.classList.add('colab-df-spinner');\n",
              "      try {\n",
              "        const charts = await google.colab.kernel.invokeFunction(\n",
              "            'suggestCharts', [key], {});\n",
              "      } catch (error) {\n",
              "        console.error('Error during call to suggestCharts:', error);\n",
              "      }\n",
              "      quickchartButtonEl.classList.remove('colab-df-spinner');\n",
              "      quickchartButtonEl.classList.add('colab-df-quickchart-complete');\n",
              "    }\n",
              "    (() => {\n",
              "      let quickchartButtonEl =\n",
              "        document.querySelector('#df-5a5013dd-f4a6-48e0-b19e-76b8a767979c button');\n",
              "      quickchartButtonEl.style.display =\n",
              "        google.colab.kernel.accessAllowed ? 'block' : 'none';\n",
              "    })();\n",
              "  </script>\n",
              "</div>\n",
              "\n",
              "    </div>\n",
              "  </div>\n"
            ],
            "application/vnd.google.colaboratory.intrinsic+json": {
              "type": "dataframe",
              "variable_name": "train_df",
              "summary": "{\n  \"name\": \"train_df\",\n  \"rows\": 48991,\n  \"fields\": [\n    {\n      \"column\": \"Lyric\",\n      \"properties\": {\n        \"dtype\": \"string\",\n        \"num_unique_values\": 48752,\n        \"samples\": [\n          \"Change your heart. Look around you. Change your heart. It will astound you. I need your lovin'. Like the sunshine. Everybody's gotta learn sometime. Everybody's gotta learn sometime. Everybody's gotta learn sometime. Change your heart. Look around you. Change your heart. Will astound you. I need your lovin'. Like the sunshine. Everybody's gotta learn sometime. Everybody's gotta learn sometime. Everybody's gotta learn sometime. I need your lovin'. Like the sunshine. Everybody's gotta learn sometime. Everybody's gotta learn sometime. Everybody's gotta learn sometime. Everybody's gotta learn sometime. Everybody's gotta learn sometime. Everybody's gotta learn sometime. Everybody's gotta learn sometime. Everybody's gotta learn sometime\",\n          \"Light comes in, I watch you wake. Wanting you so much my heart could break. To touch your skin, to feel your hair. I'd follow you anywhere. Light goes out, I watch you sleep. Never imagined love so deep. I close my eyes to breathe the air. I'd follow you anywhere. And the waves that wash over me, wash over you. Follow me, I'll follow you. Through your dreams to secret places. Here's my hand, just take it. Do as I do, I'll follow you. Nobody knows who made the stars. Baby the whole world is ours. From Liverpool to Leicester Square. I'd follow you anywhere. The angels that watch over me, watch over you. Follow me, I'll follow you. Through your dreams to secret places. Where nobody can trace us. We'll make it through, I'll follow you. And the waves that wash over me, wash over you. Follow me, I'll follow you. When nobody can find you. I'll be right behind you. You'll make it through (I'll follow you). Follow me (follow me), I'll follow you. Through your dreams to secret places. Here's my hand, just take it. Do as I do, I'll follow you\",\n          \"I visualize the first time we're together. I close my eyes and for a moment all I see is you. Turn off the lights, don't look outside, the world's gone crazy. But it's perfect here with you. Chorus:. I\\u2019ve never felt so alive. Like I feel right now in this moment. I\\u2019ve never felt so alive. Like I feel right here standing next to you. I\\u2019ve never felt so alive. I know what you're thinking. You think that we're different. In my reputation, in the stories. Well, at least you know it won't get boring. Like all the ones who came before me. Just let go as I crash into you. Chorus (1x). Heaven's heard me calling. The stars involve a light. Your touch is so electric. I'm looking in your eyes. I\\u2019ve never felt so alive. It's so surreal, the way you feel. How fast my heart is beating. And we're breathing together now. As we fall down, above the clouds. I swear I\\u2019ll never let you down. Chorus (1x). Heaven's heard me calling. The stars involve a light. Your touch is so electric. I'm looking in your eyes. I\\u2019ve never felt so alive (3x)\"\n        ],\n        \"semantic_type\": \"\",\n        \"description\": \"\"\n      }\n    },\n    {\n      \"column\": \"Genre\",\n      \"properties\": {\n        \"dtype\": \"category\",\n        \"num_unique_values\": 3,\n        \"samples\": [\n          \"Pop\",\n          \"Rock\",\n          \"Hip Hop\"\n        ],\n        \"semantic_type\": \"\",\n        \"description\": \"\"\n      }\n    }\n  ]\n}"
            }
          },
          "metadata": {},
          "execution_count": 18
        }
      ],
      "source": [
        "train_df.head()"
      ]
    },
    {
      "cell_type": "code",
      "execution_count": 19,
      "metadata": {
        "id": "zNbDNplucjFo",
        "colab": {
          "base_uri": "https://localhost:8080/",
          "height": 206
        },
        "outputId": "ea75ec0e-bb6a-4870-8299-52d48dd69095"
      },
      "outputs": [
        {
          "output_type": "execute_result",
          "data": {
            "text/plain": [
              "                                                   Lyric    Genre\n",
              "48986  [Hook]. Beamer, Benz, Or Bentley. Beamer, Benz...  Hip Hop\n",
              "48987  You never listen to me. I know I'm better off ...      Pop\n",
              "48988  Things have come to a pretty pass. Our romance...      Pop\n",
              "48989  Little baby, on my shoulder. I could fall into...      Pop\n",
              "48990  Music : Rudolf Schenker. Lyrics: Klaus Meine. ...     Rock"
            ],
            "text/html": [
              "\n",
              "  <div id=\"df-187a7348-96bd-4c70-b4b2-de4b6154fc19\" class=\"colab-df-container\">\n",
              "    <div>\n",
              "<style scoped>\n",
              "    .dataframe tbody tr th:only-of-type {\n",
              "        vertical-align: middle;\n",
              "    }\n",
              "\n",
              "    .dataframe tbody tr th {\n",
              "        vertical-align: top;\n",
              "    }\n",
              "\n",
              "    .dataframe thead th {\n",
              "        text-align: right;\n",
              "    }\n",
              "</style>\n",
              "<table border=\"1\" class=\"dataframe\">\n",
              "  <thead>\n",
              "    <tr style=\"text-align: right;\">\n",
              "      <th></th>\n",
              "      <th>Lyric</th>\n",
              "      <th>Genre</th>\n",
              "    </tr>\n",
              "  </thead>\n",
              "  <tbody>\n",
              "    <tr>\n",
              "      <th>48986</th>\n",
              "      <td>[Hook]. Beamer, Benz, Or Bentley. Beamer, Benz...</td>\n",
              "      <td>Hip Hop</td>\n",
              "    </tr>\n",
              "    <tr>\n",
              "      <th>48987</th>\n",
              "      <td>You never listen to me. I know I'm better off ...</td>\n",
              "      <td>Pop</td>\n",
              "    </tr>\n",
              "    <tr>\n",
              "      <th>48988</th>\n",
              "      <td>Things have come to a pretty pass. Our romance...</td>\n",
              "      <td>Pop</td>\n",
              "    </tr>\n",
              "    <tr>\n",
              "      <th>48989</th>\n",
              "      <td>Little baby, on my shoulder. I could fall into...</td>\n",
              "      <td>Pop</td>\n",
              "    </tr>\n",
              "    <tr>\n",
              "      <th>48990</th>\n",
              "      <td>Music : Rudolf Schenker. Lyrics: Klaus Meine. ...</td>\n",
              "      <td>Rock</td>\n",
              "    </tr>\n",
              "  </tbody>\n",
              "</table>\n",
              "</div>\n",
              "    <div class=\"colab-df-buttons\">\n",
              "\n",
              "  <div class=\"colab-df-container\">\n",
              "    <button class=\"colab-df-convert\" onclick=\"convertToInteractive('df-187a7348-96bd-4c70-b4b2-de4b6154fc19')\"\n",
              "            title=\"Convert this dataframe to an interactive table.\"\n",
              "            style=\"display:none;\">\n",
              "\n",
              "  <svg xmlns=\"http://www.w3.org/2000/svg\" height=\"24px\" viewBox=\"0 -960 960 960\">\n",
              "    <path d=\"M120-120v-720h720v720H120Zm60-500h600v-160H180v160Zm220 220h160v-160H400v160Zm0 220h160v-160H400v160ZM180-400h160v-160H180v160Zm440 0h160v-160H620v160ZM180-180h160v-160H180v160Zm440 0h160v-160H620v160Z\"/>\n",
              "  </svg>\n",
              "    </button>\n",
              "\n",
              "  <style>\n",
              "    .colab-df-container {\n",
              "      display:flex;\n",
              "      gap: 12px;\n",
              "    }\n",
              "\n",
              "    .colab-df-convert {\n",
              "      background-color: #E8F0FE;\n",
              "      border: none;\n",
              "      border-radius: 50%;\n",
              "      cursor: pointer;\n",
              "      display: none;\n",
              "      fill: #1967D2;\n",
              "      height: 32px;\n",
              "      padding: 0 0 0 0;\n",
              "      width: 32px;\n",
              "    }\n",
              "\n",
              "    .colab-df-convert:hover {\n",
              "      background-color: #E2EBFA;\n",
              "      box-shadow: 0px 1px 2px rgba(60, 64, 67, 0.3), 0px 1px 3px 1px rgba(60, 64, 67, 0.15);\n",
              "      fill: #174EA6;\n",
              "    }\n",
              "\n",
              "    .colab-df-buttons div {\n",
              "      margin-bottom: 4px;\n",
              "    }\n",
              "\n",
              "    [theme=dark] .colab-df-convert {\n",
              "      background-color: #3B4455;\n",
              "      fill: #D2E3FC;\n",
              "    }\n",
              "\n",
              "    [theme=dark] .colab-df-convert:hover {\n",
              "      background-color: #434B5C;\n",
              "      box-shadow: 0px 1px 3px 1px rgba(0, 0, 0, 0.15);\n",
              "      filter: drop-shadow(0px 1px 2px rgba(0, 0, 0, 0.3));\n",
              "      fill: #FFFFFF;\n",
              "    }\n",
              "  </style>\n",
              "\n",
              "    <script>\n",
              "      const buttonEl =\n",
              "        document.querySelector('#df-187a7348-96bd-4c70-b4b2-de4b6154fc19 button.colab-df-convert');\n",
              "      buttonEl.style.display =\n",
              "        google.colab.kernel.accessAllowed ? 'block' : 'none';\n",
              "\n",
              "      async function convertToInteractive(key) {\n",
              "        const element = document.querySelector('#df-187a7348-96bd-4c70-b4b2-de4b6154fc19');\n",
              "        const dataTable =\n",
              "          await google.colab.kernel.invokeFunction('convertToInteractive',\n",
              "                                                    [key], {});\n",
              "        if (!dataTable) return;\n",
              "\n",
              "        const docLinkHtml = 'Like what you see? Visit the ' +\n",
              "          '<a target=\"_blank\" href=https://colab.research.google.com/notebooks/data_table.ipynb>data table notebook</a>'\n",
              "          + ' to learn more about interactive tables.';\n",
              "        element.innerHTML = '';\n",
              "        dataTable['output_type'] = 'display_data';\n",
              "        await google.colab.output.renderOutput(dataTable, element);\n",
              "        const docLink = document.createElement('div');\n",
              "        docLink.innerHTML = docLinkHtml;\n",
              "        element.appendChild(docLink);\n",
              "      }\n",
              "    </script>\n",
              "  </div>\n",
              "\n",
              "\n",
              "<div id=\"df-044ebf0c-f0c1-4f32-82fd-25d8ff82050a\">\n",
              "  <button class=\"colab-df-quickchart\" onclick=\"quickchart('df-044ebf0c-f0c1-4f32-82fd-25d8ff82050a')\"\n",
              "            title=\"Suggest charts\"\n",
              "            style=\"display:none;\">\n",
              "\n",
              "<svg xmlns=\"http://www.w3.org/2000/svg\" height=\"24px\"viewBox=\"0 0 24 24\"\n",
              "     width=\"24px\">\n",
              "    <g>\n",
              "        <path d=\"M19 3H5c-1.1 0-2 .9-2 2v14c0 1.1.9 2 2 2h14c1.1 0 2-.9 2-2V5c0-1.1-.9-2-2-2zM9 17H7v-7h2v7zm4 0h-2V7h2v10zm4 0h-2v-4h2v4z\"/>\n",
              "    </g>\n",
              "</svg>\n",
              "  </button>\n",
              "\n",
              "<style>\n",
              "  .colab-df-quickchart {\n",
              "      --bg-color: #E8F0FE;\n",
              "      --fill-color: #1967D2;\n",
              "      --hover-bg-color: #E2EBFA;\n",
              "      --hover-fill-color: #174EA6;\n",
              "      --disabled-fill-color: #AAA;\n",
              "      --disabled-bg-color: #DDD;\n",
              "  }\n",
              "\n",
              "  [theme=dark] .colab-df-quickchart {\n",
              "      --bg-color: #3B4455;\n",
              "      --fill-color: #D2E3FC;\n",
              "      --hover-bg-color: #434B5C;\n",
              "      --hover-fill-color: #FFFFFF;\n",
              "      --disabled-bg-color: #3B4455;\n",
              "      --disabled-fill-color: #666;\n",
              "  }\n",
              "\n",
              "  .colab-df-quickchart {\n",
              "    background-color: var(--bg-color);\n",
              "    border: none;\n",
              "    border-radius: 50%;\n",
              "    cursor: pointer;\n",
              "    display: none;\n",
              "    fill: var(--fill-color);\n",
              "    height: 32px;\n",
              "    padding: 0;\n",
              "    width: 32px;\n",
              "  }\n",
              "\n",
              "  .colab-df-quickchart:hover {\n",
              "    background-color: var(--hover-bg-color);\n",
              "    box-shadow: 0 1px 2px rgba(60, 64, 67, 0.3), 0 1px 3px 1px rgba(60, 64, 67, 0.15);\n",
              "    fill: var(--button-hover-fill-color);\n",
              "  }\n",
              "\n",
              "  .colab-df-quickchart-complete:disabled,\n",
              "  .colab-df-quickchart-complete:disabled:hover {\n",
              "    background-color: var(--disabled-bg-color);\n",
              "    fill: var(--disabled-fill-color);\n",
              "    box-shadow: none;\n",
              "  }\n",
              "\n",
              "  .colab-df-spinner {\n",
              "    border: 2px solid var(--fill-color);\n",
              "    border-color: transparent;\n",
              "    border-bottom-color: var(--fill-color);\n",
              "    animation:\n",
              "      spin 1s steps(1) infinite;\n",
              "  }\n",
              "\n",
              "  @keyframes spin {\n",
              "    0% {\n",
              "      border-color: transparent;\n",
              "      border-bottom-color: var(--fill-color);\n",
              "      border-left-color: var(--fill-color);\n",
              "    }\n",
              "    20% {\n",
              "      border-color: transparent;\n",
              "      border-left-color: var(--fill-color);\n",
              "      border-top-color: var(--fill-color);\n",
              "    }\n",
              "    30% {\n",
              "      border-color: transparent;\n",
              "      border-left-color: var(--fill-color);\n",
              "      border-top-color: var(--fill-color);\n",
              "      border-right-color: var(--fill-color);\n",
              "    }\n",
              "    40% {\n",
              "      border-color: transparent;\n",
              "      border-right-color: var(--fill-color);\n",
              "      border-top-color: var(--fill-color);\n",
              "    }\n",
              "    60% {\n",
              "      border-color: transparent;\n",
              "      border-right-color: var(--fill-color);\n",
              "    }\n",
              "    80% {\n",
              "      border-color: transparent;\n",
              "      border-right-color: var(--fill-color);\n",
              "      border-bottom-color: var(--fill-color);\n",
              "    }\n",
              "    90% {\n",
              "      border-color: transparent;\n",
              "      border-bottom-color: var(--fill-color);\n",
              "    }\n",
              "  }\n",
              "</style>\n",
              "\n",
              "  <script>\n",
              "    async function quickchart(key) {\n",
              "      const quickchartButtonEl =\n",
              "        document.querySelector('#' + key + ' button');\n",
              "      quickchartButtonEl.disabled = true;  // To prevent multiple clicks.\n",
              "      quickchartButtonEl.classList.add('colab-df-spinner');\n",
              "      try {\n",
              "        const charts = await google.colab.kernel.invokeFunction(\n",
              "            'suggestCharts', [key], {});\n",
              "      } catch (error) {\n",
              "        console.error('Error during call to suggestCharts:', error);\n",
              "      }\n",
              "      quickchartButtonEl.classList.remove('colab-df-spinner');\n",
              "      quickchartButtonEl.classList.add('colab-df-quickchart-complete');\n",
              "    }\n",
              "    (() => {\n",
              "      let quickchartButtonEl =\n",
              "        document.querySelector('#df-044ebf0c-f0c1-4f32-82fd-25d8ff82050a button');\n",
              "      quickchartButtonEl.style.display =\n",
              "        google.colab.kernel.accessAllowed ? 'block' : 'none';\n",
              "    })();\n",
              "  </script>\n",
              "</div>\n",
              "\n",
              "    </div>\n",
              "  </div>\n"
            ],
            "application/vnd.google.colaboratory.intrinsic+json": {
              "type": "dataframe",
              "summary": "{\n  \"name\": \"train_df\",\n  \"rows\": 5,\n  \"fields\": [\n    {\n      \"column\": \"Lyric\",\n      \"properties\": {\n        \"dtype\": \"string\",\n        \"num_unique_values\": 5,\n        \"samples\": [\n          \"You never listen to me. I know I'm better off alone. Everybody knows it's true. Yeah, we all see through you. You know it won't be hard to do. Throw away my stuff from you. (Chorus). And I'll wait for her, to come. She won't break my heart. Cause' I know, she'll be. From Australia. She's so, beautiful. She's my dream girl. lalala, lalala, lalala. she's my dream girl. You were the one I thought I. needed, I'm better off alone. Everybody knows it's true. They know all your secrets. the only thing you knew was true. has just walked out of your life. How does it feel?. (Chorus). So I'll wait for her, to come. She won't break my heart. 'Cause I know, she'll be. From Australia. She's so, beautiful. She's my dream girl. lalala, lalala. she's my dream girl. She will be there. to love and to care. I know there's no need to worry. the girl of my dreams. the one that will be. there to hold me when I'm down. 'Till she is around. (Chorus). I'll just wait for her, to come. She won't break my heart. 'Cause I know, she'll be. From Australia. She's so, beautiful. She's my dream girl. lalala, lalala. she's my dream girl. So I'll just wait for her, to come. She won't break my heart. 'Cause I know, she'll be. From Australia. She's so, beautiful. She's my dream girl. lalala, lalala. she's my dream girl. (dream girl)\",\n          \"Music : Rudolf Schenker. Lyrics: Klaus Meine. She likes it hot, she likes it humid. She likes my cake, and she's not stupid. She likes my sugar, she likes my bread. I'm ready to attack. She comes at night, when I'm asleep. Without a sound, just like a thief. She comes to crawl, under my bed. I'm ready to attack. Priscilla oh Priscilla. You last resistant chiller. Priscilla oh Priscilla. Tonight I'm going to kill ya. She lives in my kitchen. Down in the shade. She likes leftovers. And throwaways. I'm on a diet. And she is fat. I'm ready to attack. Priscilla oh Priscilla. You last resistant chiller. Priscilla oh Priscilla. Tonight I'm going to kill ya. I can't do it I can't do it at all. She turns a man into killer. This cockroach named Priscilla. This cockroach named Priscilla. You're gonna be here. You're gonna be there. You're gonna be everywhere. I'm coming after you. I'm coming after you. You're gonna be now. You're gonna be then. You're gonna be out and in. I'm coming after you. I'm coming after you. You're gonna be saint. You're gonna be sin. You're gonna lose and win. I'm coming after you. I'm coming after you. Priscilla oh Priscilla.\",\n          \"Things have come to a pretty pass. Our romance is growing flat. For you like this and the other. While I go for this and that. Goodness knows what the end will be. Oh, I don't know where I'm at. It looks as if we two will never be one. Something must be done. (Chorus). You say eether and I say eyether. You say neether and I say nyther. Eether, eyether, neether, nyther. Let's call the whole thing off!. You like potato and I like potahto. You like tomato and I like tomahto. Potato, potahto, tomato, tomahto!. Let's call the whole thing off!. But oh! If we call the whole thing off. Then we must part. And oh! If we ever part. Then that might break my heart!. So, if you like pajamas and I like pajahmas. I'll wear pajamas and give up pajahmas. For we know we need each other. So we better call the calling off off. Let's call the whole thing on!. You say laughter and I say lawfter. You say after and I say awfter. Laughter, lawfter, after, awfter. Let's call the whole thing off!. You like vanilla and I like vanella. You, sa's'parilla and I sa's'parella. Vanilla, vanella, Choc'late, strawb'ry!. Let's call the whole thing off!. But oh! If we call the whole thing off. Then we must part. And oh! If we ever part. Then that might break my heart!. So, if you go for oysters and I go for ersters. I'll order oysters and cancel the ersters. For we know we need each other. So we better call the calling off off!. Let's call the whole thing on\"\n        ],\n        \"semantic_type\": \"\",\n        \"description\": \"\"\n      }\n    },\n    {\n      \"column\": \"Genre\",\n      \"properties\": {\n        \"dtype\": \"string\",\n        \"num_unique_values\": 3,\n        \"samples\": [\n          \"Hip Hop\",\n          \"Pop\",\n          \"Rock\"\n        ],\n        \"semantic_type\": \"\",\n        \"description\": \"\"\n      }\n    }\n  ]\n}"
            }
          },
          "metadata": {},
          "execution_count": 19
        }
      ],
      "source": [
        "train_df.tail()"
      ]
    },
    {
      "cell_type": "code",
      "execution_count": 20,
      "metadata": {
        "id": "_E6nt-Emcko0",
        "colab": {
          "base_uri": "https://localhost:8080/"
        },
        "outputId": "a4f23dbf-aa8e-497d-e2ba-569e03a38ae2"
      },
      "outputs": [
        {
          "output_type": "execute_result",
          "data": {
            "text/plain": [
              "Rock       0.549448\n",
              "Pop        0.295136\n",
              "Hip Hop    0.155416\n",
              "Name: Genre, dtype: float64"
            ]
          },
          "metadata": {},
          "execution_count": 20
        }
      ],
      "source": [
        "# Let's check the proportion of each label on training\n",
        "\n",
        "train_df['Genre'].value_counts() / train_df.shape[0]"
      ]
    },
    {
      "cell_type": "code",
      "execution_count": 21,
      "metadata": {
        "id": "0lWXWlXMcn6j"
      },
      "outputs": [],
      "source": [
        "y_train = pd.get_dummies(train_df['Genre']).to_numpy()\n",
        "y_val = pd.get_dummies(val_df['Genre']).to_numpy()\n",
        "y_test = pd.get_dummies(test_df['Genre']).to_numpy()"
      ]
    },
    {
      "cell_type": "code",
      "execution_count": 22,
      "metadata": {
        "id": "Xf1WOFqacprR",
        "colab": {
          "base_uri": "https://localhost:8080/"
        },
        "outputId": "c628d28d-6285-4b7f-ebf4-e3719f3cd717"
      },
      "outputs": [
        {
          "output_type": "execute_result",
          "data": {
            "text/plain": [
              "array([[0, 1, 0],\n",
              "       [0, 1, 0],\n",
              "       [0, 0, 1],\n",
              "       ...,\n",
              "       [0, 1, 0],\n",
              "       [0, 1, 0],\n",
              "       [0, 0, 1]], dtype=uint8)"
            ]
          },
          "metadata": {},
          "execution_count": 22
        }
      ],
      "source": [
        "y_train"
      ]
    },
    {
      "cell_type": "markdown",
      "metadata": {
        "id": "GideM6kGcyRQ"
      },
      "source": [
        "## Baseline Model (Bag of Words)\n"
      ]
    },
    {
      "cell_type": "code",
      "execution_count": 23,
      "metadata": {
        "id": "UZuRrUc4ctl7"
      },
      "outputs": [],
      "source": [
        "max_tokens = 5000\n",
        "text_vectorization = keras.layers.TextVectorization(\n",
        "    max_tokens=max_tokens,\n",
        "    output_mode=\"multi_hot\")\n"
      ]
    },
    {
      "cell_type": "code",
      "execution_count": 25,
      "metadata": {
        "id": "9dODoUKQc3lA"
      },
      "outputs": [],
      "source": [
        "text_vectorization.adapt(train_df['Lyric'])"
      ]
    },
    {
      "cell_type": "code",
      "execution_count": 26,
      "metadata": {
        "id": "oM18enVpc7GR",
        "colab": {
          "base_uri": "https://localhost:8080/"
        },
        "outputId": "1f25591a-b45d-4216-d42f-d45f12dcaaf3"
      },
      "outputs": [
        {
          "output_type": "execute_result",
          "data": {
            "text/plain": [
              "['eden',\n",
              " 'dagger',\n",
              " 'curve',\n",
              " 'cheddar',\n",
              " 'brew',\n",
              " 'appears',\n",
              " 'vacant',\n",
              " 'universal',\n",
              " 'unholy',\n",
              " 'terrified',\n",
              " 'stickin',\n",
              " 'rumble',\n",
              " 'rug',\n",
              " 'pam',\n",
              " 'os',\n",
              " 'ooohh',\n",
              " 'motto',\n",
              " 'marshall',\n",
              " 'loyalty',\n",
              " 'legacy']"
            ]
          },
          "metadata": {},
          "execution_count": 26
        }
      ],
      "source": [
        "text_vectorization.get_vocabulary()[-20:]"
      ]
    },
    {
      "cell_type": "code",
      "execution_count": 27,
      "metadata": {
        "id": "r0H-FOJAc9rC"
      },
      "outputs": [],
      "source": [
        "X_train = text_vectorization(train_df['Lyric'])\n",
        "X_val = text_vectorization(val_df['Lyric'])\n",
        "X_test = text_vectorization(test_df['Lyric'])"
      ]
    },
    {
      "cell_type": "code",
      "execution_count": 28,
      "metadata": {
        "id": "j_ZmsCGfdBoj",
        "colab": {
          "base_uri": "https://localhost:8080/"
        },
        "outputId": "ba2782df-75f5-4a23-ffab-4b0c03b7c199"
      },
      "outputs": [
        {
          "output_type": "execute_result",
          "data": {
            "text/plain": [
              "<tf.Tensor: shape=(48991, 5000), dtype=float32, numpy=\n",
              "array([[1., 1., 1., ..., 0., 0., 0.],\n",
              "       [1., 1., 1., ..., 0., 0., 0.],\n",
              "       [1., 1., 1., ..., 0., 0., 0.],\n",
              "       ...,\n",
              "       [1., 1., 1., ..., 0., 0., 0.],\n",
              "       [1., 1., 1., ..., 0., 0., 0.],\n",
              "       [1., 1., 1., ..., 0., 0., 0.]], dtype=float32)>"
            ]
          },
          "metadata": {},
          "execution_count": 28
        }
      ],
      "source": [
        "X_train"
      ]
    },
    {
      "cell_type": "code",
      "execution_count": 29,
      "metadata": {
        "id": "XkapBRj1dFLF",
        "colab": {
          "base_uri": "https://localhost:8080/"
        },
        "outputId": "0010fabe-605d-4ce9-a7fd-4dbeadc4a9a4"
      },
      "outputs": [
        {
          "output_type": "stream",
          "name": "stdout",
          "text": [
            "Model: \"model\"\n",
            "_________________________________________________________________\n",
            " Layer (type)                Output Shape              Param #   \n",
            "=================================================================\n",
            " input_1 (InputLayer)        [(None, 5000)]            0         \n",
            "                                                                 \n",
            " dense (Dense)               (None, 8)                 40008     \n",
            "                                                                 \n",
            " dense_1 (Dense)             (None, 3)                 27        \n",
            "                                                                 \n",
            "=================================================================\n",
            "Total params: 40035 (156.39 KB)\n",
            "Trainable params: 40035 (156.39 KB)\n",
            "Non-trainable params: 0 (0.00 Byte)\n",
            "_________________________________________________________________\n"
          ]
        }
      ],
      "source": [
        "inputs = keras.Input(shape=(max_tokens, ))\n",
        "x = keras.layers.Dense(8, activation=\"relu\")(inputs)\n",
        "outputs = keras.layers.Dense(3, activation=\"softmax\")(x)\n",
        "\n",
        "model = keras.Model(inputs, outputs)\n",
        "\n",
        "model.summary()"
      ]
    },
    {
      "cell_type": "code",
      "execution_count": 30,
      "metadata": {
        "id": "PDWK2EMqdMy9"
      },
      "outputs": [],
      "source": [
        "model.compile(optimizer=\"adam\",\n",
        "              loss=\"categorical_crossentropy\",\n",
        "              metrics=[\"accuracy\"])"
      ]
    },
    {
      "cell_type": "code",
      "execution_count": 31,
      "metadata": {
        "id": "8YFRRUJ1dOI6",
        "colab": {
          "base_uri": "https://localhost:8080/"
        },
        "outputId": "40a637b8-710a-4234-afb1-3b735d04c8d6"
      },
      "outputs": [
        {
          "output_type": "stream",
          "name": "stdout",
          "text": [
            "Epoch 1/10\n",
            "1531/1531 [==============================] - 6s 3ms/step - loss: 0.6167 - accuracy: 0.7311 - val_loss: 0.5701 - val_accuracy: 0.7529\n",
            "Epoch 2/10\n",
            "1531/1531 [==============================] - 5s 4ms/step - loss: 0.5200 - accuracy: 0.7765 - val_loss: 0.5730 - val_accuracy: 0.7497\n",
            "Epoch 3/10\n",
            "1531/1531 [==============================] - 5s 3ms/step - loss: 0.4820 - accuracy: 0.7919 - val_loss: 0.5849 - val_accuracy: 0.7434\n",
            "Epoch 4/10\n",
            "1531/1531 [==============================] - 5s 3ms/step - loss: 0.4509 - accuracy: 0.8067 - val_loss: 0.6015 - val_accuracy: 0.7415\n",
            "Epoch 5/10\n",
            "1531/1531 [==============================] - 7s 4ms/step - loss: 0.4227 - accuracy: 0.8207 - val_loss: 0.6270 - val_accuracy: 0.7407\n",
            "Epoch 6/10\n",
            "1531/1531 [==============================] - 5s 3ms/step - loss: 0.3987 - accuracy: 0.8324 - val_loss: 0.6586 - val_accuracy: 0.7382\n",
            "Epoch 7/10\n",
            "1531/1531 [==============================] - 5s 3ms/step - loss: 0.3766 - accuracy: 0.8433 - val_loss: 0.6785 - val_accuracy: 0.7365\n",
            "Epoch 8/10\n",
            "1531/1531 [==============================] - 6s 4ms/step - loss: 0.3561 - accuracy: 0.8523 - val_loss: 0.7291 - val_accuracy: 0.7314\n",
            "Epoch 9/10\n",
            "1531/1531 [==============================] - 5s 3ms/step - loss: 0.3384 - accuracy: 0.8603 - val_loss: 0.7527 - val_accuracy: 0.7244\n",
            "Epoch 10/10\n",
            "1531/1531 [==============================] - 7s 5ms/step - loss: 0.3201 - accuracy: 0.8687 - val_loss: 0.8052 - val_accuracy: 0.7249\n"
          ]
        },
        {
          "output_type": "execute_result",
          "data": {
            "text/plain": [
              "<keras.src.callbacks.History at 0x79b43ef50ac0>"
            ]
          },
          "metadata": {},
          "execution_count": 31
        }
      ],
      "source": [
        "# Fit model\n",
        "model.fit(x=X_train, y=y_train,\n",
        "          validation_data=(X_val, y_val),\n",
        "          epochs=10,\n",
        "          batch_size=32)"
      ]
    },
    {
      "cell_type": "code",
      "execution_count": 32,
      "metadata": {
        "id": "tiCC-JBddQL7",
        "colab": {
          "base_uri": "https://localhost:8080/"
        },
        "outputId": "840b987a-ecb3-4c5e-b5cb-963bf31f4c12"
      },
      "outputs": [
        {
          "output_type": "stream",
          "name": "stdout",
          "text": [
            "681/681 [==============================] - 1s 2ms/step - loss: 0.8323 - accuracy: 0.7203\n"
          ]
        },
        {
          "output_type": "execute_result",
          "data": {
            "text/plain": [
              "[0.8323413133621216, 0.7202627062797546]"
            ]
          },
          "metadata": {},
          "execution_count": 32
        }
      ],
      "source": [
        "model.evaluate(x=X_test, y=y_test)"
      ]
    },
    {
      "cell_type": "markdown",
      "metadata": {
        "id": "A1low0G7g5Ul"
      },
      "source": [
        "## Word Embeddings\n",
        "\n"
      ]
    },
    {
      "cell_type": "code",
      "execution_count": 33,
      "metadata": {
        "id": "ai5klYkzg4nl",
        "colab": {
          "base_uri": "https://localhost:8080/"
        },
        "outputId": "1c397132-5883-4501-f371-e14b070ef58c"
      },
      "outputs": [
        {
          "output_type": "stream",
          "name": "stdout",
          "text": [
            "--2024-03-07 05:34:09--  http://nlp.stanford.edu/data/glove.6B.zip\n",
            "Resolving nlp.stanford.edu (nlp.stanford.edu)... 171.64.67.140\n",
            "Connecting to nlp.stanford.edu (nlp.stanford.edu)|171.64.67.140|:80... connected.\n",
            "HTTP request sent, awaiting response... 302 Found\n",
            "Location: https://nlp.stanford.edu/data/glove.6B.zip [following]\n",
            "--2024-03-07 05:34:09--  https://nlp.stanford.edu/data/glove.6B.zip\n",
            "Connecting to nlp.stanford.edu (nlp.stanford.edu)|171.64.67.140|:443... connected.\n",
            "HTTP request sent, awaiting response... 301 Moved Permanently\n",
            "Location: https://downloads.cs.stanford.edu/nlp/data/glove.6B.zip [following]\n",
            "--2024-03-07 05:34:09--  https://downloads.cs.stanford.edu/nlp/data/glove.6B.zip\n",
            "Resolving downloads.cs.stanford.edu (downloads.cs.stanford.edu)... 171.64.64.22\n",
            "Connecting to downloads.cs.stanford.edu (downloads.cs.stanford.edu)|171.64.64.22|:443... connected.\n",
            "HTTP request sent, awaiting response... 200 OK\n",
            "Length: 862182613 (822M) [application/zip]\n",
            "Saving to: ‘glove.6B.zip’\n",
            "\n",
            "glove.6B.zip        100%[===================>] 822.24M  5.00MB/s    in 2m 39s  \n",
            "\n",
            "2024-03-07 05:36:48 (5.17 MB/s) - ‘glove.6B.zip’ saved [862182613/862182613]\n",
            "\n"
          ]
        }
      ],
      "source": [
        "!wget http://nlp.stanford.edu/data/glove.6B.zip\n",
        "!unzip -q glove.6B.zip"
      ]
    },
    {
      "cell_type": "code",
      "execution_count": 34,
      "metadata": {
        "id": "PnvSOo9JhO7t",
        "colab": {
          "base_uri": "https://localhost:8080/"
        },
        "outputId": "9010b590-bd46-4b57-dc76-a68fb1bd8a03"
      },
      "outputs": [
        {
          "output_type": "stream",
          "name": "stdout",
          "text": [
            "Found 400000 word vectors.\n"
          ]
        }
      ],
      "source": [
        "embedding_dim = 100\n",
        "path_to_glove_file = f\"glove.6B.{embedding_dim}d.txt\"\n",
        "\n",
        "embeddings_index = {}\n",
        "with open(path_to_glove_file) as f:\n",
        "    for line in f:\n",
        "        word, coefs = line.split(maxsplit=1)\n",
        "        coefs = np.fromstring(coefs, \"f\", sep=\" \")\n",
        "        embeddings_index[word] = coefs\n",
        "\n",
        "print(f\"Found {len(embeddings_index)} word vectors.\")"
      ]
    },
    {
      "cell_type": "code",
      "execution_count": 35,
      "metadata": {
        "id": "gjpLMLJGhUgr",
        "colab": {
          "base_uri": "https://localhost:8080/"
        },
        "outputId": "e96d755a-5478-463f-defa-e03f3b3ebc4f"
      },
      "outputs": [
        {
          "output_type": "execute_result",
          "data": {
            "text/plain": [
              "array([ 0.38251  ,  0.14821  ,  0.60601  , -0.51533  ,  0.43992  ,\n",
              "        0.061053 , -0.62716  , -0.025385 ,  0.1643   , -0.22101  ,\n",
              "        0.14423  , -0.37213  , -0.21683  , -0.08895  ,  0.097904 ,\n",
              "        0.6561   ,  0.64455  ,  0.47698  ,  0.83849  ,  1.6486   ,\n",
              "        0.88922  , -0.1181   , -0.012465 , -0.52082  ,  0.77854  ,\n",
              "        0.48723  , -0.014991 , -0.14127  , -0.34747  , -0.29595  ,\n",
              "        0.1028   ,  0.57191  , -0.045594 ,  0.026443 ,  0.53816  ,\n",
              "        0.32257  ,  0.40788  , -0.043599 , -0.146    , -0.48346  ,\n",
              "        0.32036  ,  0.55086  , -0.76259  ,  0.43269  ,  0.61753  ,\n",
              "       -0.36503  , -0.60599  , -0.79615  ,  0.3929   , -0.23668  ,\n",
              "       -0.34719  , -0.61201  ,  0.54747  ,  0.94812  ,  0.20941  ,\n",
              "       -2.7771   , -0.6022   ,  0.8495   ,  1.2549   ,  0.017893 ,\n",
              "       -0.041901 ,  2.1147   , -0.026618 , -0.28104  ,  0.68124  ,\n",
              "       -0.14165  ,  0.99249  ,  0.49879  , -0.67538  ,  0.6417   ,\n",
              "        0.42303  , -0.27913  ,  0.063403 ,  0.68909  , -0.36183  ,\n",
              "        0.053709 , -0.16806  ,  0.19422  , -0.47073  , -0.14803  ,\n",
              "       -0.58986  , -0.2797   ,  0.16792  ,  0.10568  , -1.7601   ,\n",
              "        0.0088254, -0.83326  , -0.5836   , -0.37079  , -0.56591  ,\n",
              "        0.20699  ,  0.071315 ,  0.055586 , -0.29757  , -0.072659 ,\n",
              "       -0.25596  ,  0.42688  ,  0.058921 ,  0.091112 ,  0.47283  ],\n",
              "      dtype=float32)"
            ]
          },
          "metadata": {},
          "execution_count": 35
        }
      ],
      "source": [
        "embeddings_index[\"movie\"]"
      ]
    },
    {
      "cell_type": "code",
      "execution_count": 36,
      "metadata": {
        "id": "YnHXW1LPhWQ6",
        "colab": {
          "base_uri": "https://localhost:8080/"
        },
        "outputId": "57cab0b8-adcc-4077-b267-d28cd4bc10e5"
      },
      "outputs": [
        {
          "output_type": "execute_result",
          "data": {
            "text/plain": [
              "array([ 0.19916 , -0.049702,  0.24579 , -0.32281 ,  0.89768 , -0.1278  ,\n",
              "       -0.49506 ,  0.20814 , -0.20046 , -0.20604 ,  0.038292, -0.67277 ,\n",
              "       -0.12689 , -0.18766 , -0.10277 ,  0.73128 ,  0.82408 ,  0.087288,\n",
              "        0.69255 ,  1.3107  ,  0.49113 , -0.38097 ,  0.24338 , -0.27813 ,\n",
              "        0.62506 ,  0.35978 ,  0.42041 , -0.24529 ,  0.14861 , -0.26726 ,\n",
              "       -0.56262 ,  0.63843 , -0.54153 ,  0.36537 ,  0.20545 , -0.16604 ,\n",
              "        0.72434 ,  0.29961 , -0.42501 , -0.35932 , -0.089288,  0.48752 ,\n",
              "       -1.0927  ,  0.88818 ,  0.89941 , -0.7541  , -0.35492 , -0.76396 ,\n",
              "        0.27468 ,  0.2757  , -0.48152 , -0.41399 ,  0.64489 ,  1.148   ,\n",
              "       -0.29131 , -2.9387  , -0.83162 ,  0.95586 ,  1.1623  , -0.42502 ,\n",
              "        0.15486 ,  2.2326  , -0.31339 , -0.030228,  0.79802 , -0.41302 ,\n",
              "        0.72885 ,  0.7296  , -0.31909 ,  0.8956  ,  0.34625 ,  0.2923  ,\n",
              "        0.40056 ,  0.78985 , -0.43999 ,  0.24698 , -0.46548 ,  0.055886,\n",
              "       -0.62603 , -0.036487, -0.65429 ,  0.10563 ,  0.17435 ,  0.35466 ,\n",
              "       -1.9403  , -0.022502, -0.7302  , -0.63042 , -0.032799, -0.43953 ,\n",
              "       -0.07239 , -0.44875 , -0.074689, -0.14426 ,  0.19252 ,  0.27108 ,\n",
              "        0.20325 , -0.068109,  0.017651,  0.06455 ], dtype=float32)"
            ]
          },
          "metadata": {},
          "execution_count": 36
        }
      ],
      "source": [
        "embeddings_index[\"film\"]"
      ]
    },
    {
      "cell_type": "code",
      "execution_count": 37,
      "metadata": {
        "id": "UaKyS05rhZLb"
      },
      "outputs": [],
      "source": [
        "max_length = 300 #90% of songs\n",
        "max_tokens = 5000\n",
        "\n",
        "text_vectorization = keras.layers.TextVectorization(\n",
        "    max_tokens=max_tokens,\n",
        "    output_mode=\"int\",\n",
        "    output_sequence_length=max_length,\n",
        ")"
      ]
    },
    {
      "cell_type": "markdown",
      "metadata": {
        "id": "dAjyXQwvhbVl"
      },
      "source": [
        "We haven't seen the `output_sequence_length` argument before. This basically truncates any doc to the length specified by the argument. If the document is shorter it is padded with the empty tokens (i.e. tokens that index to 0)"
      ]
    },
    {
      "cell_type": "code",
      "execution_count": 38,
      "metadata": {
        "id": "koMXQgzAhe7I"
      },
      "outputs": [],
      "source": [
        "text_vectorization.adapt(train_df['Lyric'])"
      ]
    },
    {
      "cell_type": "code",
      "execution_count": 39,
      "metadata": {
        "id": "HtlJGJ1Vhe_u"
      },
      "outputs": [],
      "source": [
        "X_train = text_vectorization(train_df['Lyric'])\n",
        "X_val = text_vectorization(val_df['Lyric'])\n",
        "X_test = text_vectorization(test_df['Lyric'])"
      ]
    },
    {
      "cell_type": "code",
      "execution_count": 40,
      "metadata": {
        "id": "5KcuvB_JhhmQ",
        "colab": {
          "base_uri": "https://localhost:8080/"
        },
        "outputId": "d3c32480-8f1c-4352-f044-425fd890270f"
      },
      "outputs": [
        {
          "output_type": "execute_result",
          "data": {
            "text/plain": [
              "<tf.Tensor: shape=(48991, 300), dtype=int64, numpy=\n",
              "array([[  40,   83,    4, ...,   22,  729,    3],\n",
              "       [  20,  649,   13, ...,    0,    0,    0],\n",
              "       [  20, 2872,    3, ...,    0,    0,    0],\n",
              "       ...,\n",
              "       [ 153,   66,   62, ...,    0,    0,    0],\n",
              "       [ 119,   51,   13, ...,    0,    0,    0],\n",
              "       [ 358,    1,    1, ...,    0,    0,    0]])>"
            ]
          },
          "metadata": {},
          "execution_count": 40
        }
      ],
      "source": [
        "X_train"
      ]
    },
    {
      "cell_type": "code",
      "source": [
        "vocabulary = text_vectorization.get_vocabulary()\n",
        "word_index = dict(zip(vocabulary, range(len(vocabulary))))\n",
        "\n",
        "counter = 0\n",
        "embedding_matrix = np.zeros((max_tokens, embedding_dim))\n",
        "for word, i in word_index.items():\n",
        "   if i < max_tokens:\n",
        "    embedding_vector = embeddings_index.get(word)\n",
        "    if embedding_vector is not None:\n",
        "     embedding_matrix[i] = embedding_vector\n",
        "   else: counter += 1"
      ],
      "metadata": {
        "id": "FODHRrAobfgm"
      },
      "execution_count": 44,
      "outputs": []
    },
    {
      "cell_type": "code",
      "execution_count": 45,
      "metadata": {
        "id": "yvPpWcoLhpEm",
        "colab": {
          "base_uri": "https://localhost:8080/"
        },
        "outputId": "d3679515-79c9-493c-c01b-814cd26e830d"
      },
      "outputs": [
        {
          "output_type": "execute_result",
          "data": {
            "text/plain": [
              "(5000, 100)"
            ]
          },
          "metadata": {},
          "execution_count": 45
        }
      ],
      "source": [
        "embedding_matrix.shape"
      ]
    },
    {
      "cell_type": "code",
      "execution_count": 46,
      "metadata": {
        "id": "AhujWb6VkpwZ"
      },
      "outputs": [],
      "source": [
        "embedding_layer = keras.layers.Embedding(\n",
        "    max_tokens,\n",
        "    embedding_dim,\n",
        "    embeddings_initializer= keras.initializers.Constant(embedding_matrix),\n",
        "    trainable=False,\n",
        ")"
      ]
    },
    {
      "cell_type": "code",
      "execution_count": 47,
      "metadata": {
        "id": "3DY3e-FNuvhr",
        "colab": {
          "base_uri": "https://localhost:8080/"
        },
        "outputId": "ad7d8bcc-81f5-4228-c35c-005ffbf99242"
      },
      "outputs": [
        {
          "output_type": "stream",
          "name": "stdout",
          "text": [
            "There are 0 words on our vocabulary not present in the Glove embedding\n",
            "This is roughly 0.00% of the vocabulary\n",
            "These words will be represented by a vector of 0 in all entries in the embedding\n"
          ]
        }
      ],
      "source": [
        "print(f'There are {counter} words on our vocabulary not present in the Glove embedding')\n",
        "print(f'This is roughly {counter / max_tokens * 100:.2f}% of the vocabulary')\n",
        "print('These words will be represented by a vector of 0 in all entries in the embedding')"
      ]
    },
    {
      "cell_type": "code",
      "execution_count": 48,
      "metadata": {
        "id": "zSXUDYK4uy_f",
        "colab": {
          "base_uri": "https://localhost:8080/"
        },
        "outputId": "33e901c2-6295-4438-913c-9e977c16ece7"
      },
      "outputs": [
        {
          "output_type": "stream",
          "name": "stdout",
          "text": [
            "Model: \"model_1\"\n",
            "_________________________________________________________________\n",
            " Layer (type)                Output Shape              Param #   \n",
            "=================================================================\n",
            " input_2 (InputLayer)        [(None, 300)]             0         \n",
            "                                                                 \n",
            " embedding (Embedding)       (None, 300, 100)          500000    \n",
            "                                                                 \n",
            " global_average_pooling1d (  (None, 100)               0         \n",
            " GlobalAveragePooling1D)                                         \n",
            "                                                                 \n",
            " dense_2 (Dense)             (None, 8)                 808       \n",
            "                                                                 \n",
            " dropout (Dropout)           (None, 8)                 0         \n",
            "                                                                 \n",
            " dense_3 (Dense)             (None, 3)                 27        \n",
            "                                                                 \n",
            "=================================================================\n",
            "Total params: 500835 (1.91 MB)\n",
            "Trainable params: 835 (3.26 KB)\n",
            "Non-trainable params: 500000 (1.91 MB)\n",
            "_________________________________________________________________\n"
          ]
        }
      ],
      "source": [
        "inputs = keras.Input(shape=(max_length,))\n",
        "embedded = embedding_layer(inputs) # 300 x 100 table comes out\n",
        "embedded = keras.layers.GlobalAveragePooling1D()(embedded) # 100-element vector\n",
        "x = keras.layers.Dense(8)(embedded)\n",
        "x = keras.layers.Dropout(0.5)(x)\n",
        "outputs = keras.layers.Dense(3, activation=\"softmax\")(x)\n",
        "\n",
        "model = keras.Model(inputs, outputs)\n",
        "\n",
        "model.summary()"
      ]
    },
    {
      "cell_type": "code",
      "execution_count": 49,
      "metadata": {
        "id": "rYr0JM0ou0ac"
      },
      "outputs": [],
      "source": [
        "model.compile(optimizer=\"adam\",\n",
        "              loss=\"categorical_crossentropy\",\n",
        "              metrics=[\"accuracy\"])"
      ]
    },
    {
      "cell_type": "code",
      "execution_count": 50,
      "metadata": {
        "id": "wNZFwF4Mu1eF",
        "colab": {
          "base_uri": "https://localhost:8080/"
        },
        "outputId": "52e31ca3-5854-4eae-abb3-b739c4180406"
      },
      "outputs": [
        {
          "output_type": "stream",
          "name": "stdout",
          "text": [
            "Epoch 1/10\n",
            "1531/1531 [==============================] - 7s 4ms/step - loss: 0.8919 - accuracy: 0.5920 - val_loss: 0.7926 - val_accuracy: 0.6449\n",
            "Epoch 2/10\n",
            "1531/1531 [==============================] - 7s 5ms/step - loss: 0.8093 - accuracy: 0.6355 - val_loss: 0.7671 - val_accuracy: 0.6636\n",
            "Epoch 3/10\n",
            "1531/1531 [==============================] - 11s 7ms/step - loss: 0.7955 - accuracy: 0.6432 - val_loss: 0.7536 - val_accuracy: 0.6742\n",
            "Epoch 4/10\n",
            "1531/1531 [==============================] - 8s 5ms/step - loss: 0.7939 - accuracy: 0.6476 - val_loss: 0.7494 - val_accuracy: 0.6768\n",
            "Epoch 5/10\n",
            "1531/1531 [==============================] - 7s 5ms/step - loss: 0.7875 - accuracy: 0.6487 - val_loss: 0.7523 - val_accuracy: 0.6670\n",
            "Epoch 6/10\n",
            "1531/1531 [==============================] - 8s 5ms/step - loss: 0.7859 - accuracy: 0.6520 - val_loss: 0.7440 - val_accuracy: 0.6758\n",
            "Epoch 7/10\n",
            "1531/1531 [==============================] - 10s 7ms/step - loss: 0.7832 - accuracy: 0.6533 - val_loss: 0.7433 - val_accuracy: 0.6752\n",
            "Epoch 8/10\n",
            "1531/1531 [==============================] - 7s 5ms/step - loss: 0.7836 - accuracy: 0.6539 - val_loss: 0.7405 - val_accuracy: 0.6798\n",
            "Epoch 9/10\n",
            "1531/1531 [==============================] - 5s 3ms/step - loss: 0.7794 - accuracy: 0.6552 - val_loss: 0.7387 - val_accuracy: 0.6805\n",
            "Epoch 10/10\n",
            "1531/1531 [==============================] - 9s 6ms/step - loss: 0.7806 - accuracy: 0.6566 - val_loss: 0.7500 - val_accuracy: 0.6728\n"
          ]
        },
        {
          "output_type": "execute_result",
          "data": {
            "text/plain": [
              "<keras.src.callbacks.History at 0x79b44422f550>"
            ]
          },
          "metadata": {},
          "execution_count": 50
        }
      ],
      "source": [
        "# Fit model\n",
        "model.fit(x=X_train, y=y_train,\n",
        "          validation_data=(X_val, y_val),\n",
        "          epochs=10,\n",
        "          batch_size=32,)"
      ]
    },
    {
      "cell_type": "code",
      "execution_count": 51,
      "metadata": {
        "id": "UHH8y6Sju4yu",
        "colab": {
          "base_uri": "https://localhost:8080/"
        },
        "outputId": "daedf032-a1b4-4d52-85bc-f5cbb80c7d1b"
      },
      "outputs": [
        {
          "output_type": "stream",
          "name": "stdout",
          "text": [
            "Model: \"model_2\"\n",
            "_________________________________________________________________\n",
            " Layer (type)                Output Shape              Param #   \n",
            "=================================================================\n",
            " input_3 (InputLayer)        [(None, 300)]             0         \n",
            "                                                                 \n",
            " embedding_1 (Embedding)     (None, 300, 100)          500000    \n",
            "                                                                 \n",
            " global_average_pooling1d_1  (None, 100)               0         \n",
            "  (GlobalAveragePooling1D)                                       \n",
            "                                                                 \n",
            " dense_4 (Dense)             (None, 8)                 808       \n",
            "                                                                 \n",
            " dropout_1 (Dropout)         (None, 8)                 0         \n",
            "                                                                 \n",
            " dense_5 (Dense)             (None, 3)                 27        \n",
            "                                                                 \n",
            "=================================================================\n",
            "Total params: 500835 (1.91 MB)\n",
            "Trainable params: 500835 (1.91 MB)\n",
            "Non-trainable params: 0 (0.00 Byte)\n",
            "_________________________________________________________________\n"
          ]
        }
      ],
      "source": [
        "embedding_layer = keras.layers.Embedding(\n",
        "    max_tokens,\n",
        "    embedding_dim,\n",
        "    embeddings_initializer=keras.initializers.Constant(embedding_matrix),\n",
        "    trainable=True,\n",
        ")\n",
        "\n",
        "inputs = keras.Input(shape=(max_length,))\n",
        "embedded = embedding_layer(inputs)\n",
        "embedded = keras.layers.GlobalAveragePooling1D()(embedded)\n",
        "x = keras.layers.Dense(8)(embedded)\n",
        "x = keras.layers.Dropout(0.5)(x)\n",
        "outputs = keras.layers.Dense(3, activation=\"softmax\")(x)\n",
        "\n",
        "model = keras.Model(inputs, outputs)\n",
        "model.summary()"
      ]
    },
    {
      "cell_type": "code",
      "execution_count": 52,
      "metadata": {
        "id": "d64aLxCwu6Ik"
      },
      "outputs": [],
      "source": [
        "model.compile(optimizer=\"adam\",\n",
        "              loss=\"categorical_crossentropy\",\n",
        "              metrics=[\"accuracy\"])\n"
      ]
    },
    {
      "cell_type": "code",
      "execution_count": 53,
      "metadata": {
        "id": "rZ5YVI4Ju7IE",
        "colab": {
          "base_uri": "https://localhost:8080/"
        },
        "outputId": "6ec0cd54-982d-464c-ab33-66b9cdaa8313"
      },
      "outputs": [
        {
          "output_type": "stream",
          "name": "stdout",
          "text": [
            "Epoch 1/10\n",
            "1531/1531 [==============================] - 24s 15ms/step - loss: 0.7847 - accuracy: 0.6632 - val_loss: 0.6572 - val_accuracy: 0.7216\n",
            "Epoch 2/10\n",
            "1531/1531 [==============================] - 20s 13ms/step - loss: 0.6763 - accuracy: 0.7114 - val_loss: 0.6253 - val_accuracy: 0.7305\n",
            "Epoch 3/10\n",
            "1531/1531 [==============================] - 21s 14ms/step - loss: 0.6445 - accuracy: 0.7255 - val_loss: 0.6119 - val_accuracy: 0.7371\n",
            "Epoch 4/10\n",
            "1531/1531 [==============================] - 24s 15ms/step - loss: 0.6275 - accuracy: 0.7344 - val_loss: 0.6126 - val_accuracy: 0.7386\n",
            "Epoch 5/10\n",
            "1531/1531 [==============================] - 18s 11ms/step - loss: 0.6132 - accuracy: 0.7398 - val_loss: 0.6184 - val_accuracy: 0.7317\n",
            "Epoch 6/10\n",
            "1531/1531 [==============================] - 21s 14ms/step - loss: 0.6016 - accuracy: 0.7457 - val_loss: 0.6119 - val_accuracy: 0.7370\n",
            "Epoch 7/10\n",
            "1531/1531 [==============================] - 21s 14ms/step - loss: 0.5893 - accuracy: 0.7482 - val_loss: 0.6178 - val_accuracy: 0.7351\n",
            "Epoch 8/10\n",
            "1531/1531 [==============================] - 22s 14ms/step - loss: 0.5834 - accuracy: 0.7519 - val_loss: 0.6177 - val_accuracy: 0.7379\n",
            "Epoch 9/10\n",
            "1531/1531 [==============================] - 22s 15ms/step - loss: 0.5750 - accuracy: 0.7566 - val_loss: 0.6201 - val_accuracy: 0.7346\n",
            "Epoch 10/10\n",
            "1531/1531 [==============================] - 21s 14ms/step - loss: 0.5706 - accuracy: 0.7593 - val_loss: 0.6297 - val_accuracy: 0.7345\n"
          ]
        },
        {
          "output_type": "execute_result",
          "data": {
            "text/plain": [
              "<keras.src.callbacks.History at 0x79b446d2beb0>"
            ]
          },
          "metadata": {},
          "execution_count": 53
        }
      ],
      "source": [
        "# Fit model\n",
        "model.fit(x=X_train, y=y_train,\n",
        "          validation_data=(X_val, y_val),\n",
        "          epochs=10,\n",
        "          batch_size=32,)"
      ]
    },
    {
      "cell_type": "code",
      "execution_count": 54,
      "metadata": {
        "id": "hJde9OXTu8S3",
        "colab": {
          "base_uri": "https://localhost:8080/"
        },
        "outputId": "5bd92697-af3c-4473-874f-5bed5ace9d2e"
      },
      "outputs": [
        {
          "output_type": "stream",
          "name": "stdout",
          "text": [
            "681/681 [==============================] - 2s 2ms/step - loss: 0.6440 - accuracy: 0.7328\n"
          ]
        },
        {
          "output_type": "execute_result",
          "data": {
            "text/plain": [
              "[0.6440224051475525, 0.7328006029129028]"
            ]
          },
          "metadata": {},
          "execution_count": 54
        }
      ],
      "source": [
        "model.evaluate(x=X_test, y=y_test)"
      ]
    },
    {
      "cell_type": "code",
      "execution_count": 55,
      "metadata": {
        "id": "DNMZCmNnu_ud"
      },
      "outputs": [],
      "source": [
        "def lyric_predict(phrase):\n",
        "    raw_text_data = tf.convert_to_tensor([[phrase],])\n",
        "\n",
        "    vect_data = text_vectorization(raw_text_data)\n",
        "    predictions = model.predict(vect_data)\n",
        "    predictions\n",
        "    print(f\"{float(predictions[0,0] * 100):.2f} % Hip-Hop\")\n",
        "    print(f\"{float(predictions[0,1] * 100):.2f} % Pop\")\n",
        "    print(f\"{float(predictions[0,2] * 100):.2f} % Rock\")"
      ]
    },
    {
      "cell_type": "code",
      "execution_count": 56,
      "metadata": {
        "id": "4GCnz-VWvAqC",
        "colab": {
          "base_uri": "https://localhost:8080/"
        },
        "outputId": "63935d3d-d082-47fd-9e1b-68773c29b431"
      },
      "outputs": [
        {
          "output_type": "stream",
          "name": "stdout",
          "text": [
            "1/1 [==============================] - 0s 142ms/step\n",
            "63.13 % Hip-Hop\n",
            "14.28 % Pop\n",
            "22.59 % Rock\n"
          ]
        }
      ],
      "source": [
        "phrase = '''I grew up on the crime side, the New York Times side\n",
        "Stayin' alive was no jive\n",
        "Had secondhands, Mom's bounced on old man\n",
        "So then we moved to Shaolin land\n",
        "A young youth, yo, rockin' the gold tooth, 'Lo goose\n",
        "Only way I begin the G off was drug loot\n",
        "And let's start it like this, son\n",
        "Rollin' with this one and that one, pullin' out gats for fun\n",
        "But it was just a dream for the teen\n",
        "Who was a fiend, started smokin' woolies at 16\n",
        "And runnin' up in gates and doin' hits for high stakes\n",
        "Makin' my way on fire escapes\n",
        "No question, I would speed for cracks and weed\n",
        "The combination made my eyes bleed\n",
        "No question, I would flow off and try to get the dough all\n",
        "Stickin' up white boys in ball courts\n",
        "My life got no better, same damn 'Lo sweater\n",
        "Times is rough and tough like leather\n",
        "Figured out I went the wrong route\n",
        "So I got with a sick-ass clique and went all out\n",
        "Catchin' keys from 'cross seas\n",
        "Rollin' in MPV's, every week we made forty G's\n",
        "Yo, ****, respect mine, or here go the TEC-9\n",
        "Ch-chick-pow! Move from the gate now'''\n",
        "\n",
        "lyric_predict(phrase)"
      ]
    },
    {
      "cell_type": "code",
      "execution_count": 57,
      "metadata": {
        "id": "hzoxg1GuvB2F",
        "colab": {
          "base_uri": "https://localhost:8080/"
        },
        "outputId": "6807f1a0-ad11-4700-823a-498d44ed0271"
      },
      "outputs": [
        {
          "output_type": "stream",
          "name": "stdout",
          "text": [
            "1/1 [==============================] - 0s 31ms/step\n",
            "3.82 % Hip-Hop\n",
            "49.45 % Pop\n",
            "46.73 % Rock\n"
          ]
        }
      ],
      "source": [
        "phrase = '''I walked through the door with you\n",
        "The air was cold\n",
        "But something about it felt like home somehow\n",
        "And I, left my scarf there at your sister's house\n",
        "And you've still got it in your drawer even now\n",
        "Oh, your sweet disposition\n",
        "And my wide-eyed gaze\n",
        "We're singing in the car, getting lost upstate\n",
        "Autumn leaves falling down like pieces into place\n",
        "And I can picture it after all these days\n",
        "And I know it's long gone and that magic's not here no more\n",
        "And I might be okay but I'm not fine at all\n",
        "'Cause there we are again on that little town street\n",
        "You almost ran the red 'cause you were lookin' over at me\n",
        "Wind in my hair, I was there\n",
        "I remember it all too well\n",
        "Photo album on the counter\n",
        "Your cheeks were turning red\n",
        "You used to be a little kid with glasses in a twin-sized bed\n",
        "And your mother's telling stories 'bout you on the tee-ball team\n",
        "You told me 'bout your past thinking your future was me\n",
        "And I know it's long gone and there was nothing else I could do\n",
        "And I forget about you long enough to forget why I needed to\n",
        "'Cause there we are again in the middle of the night\n",
        "We're dancing 'round the kitchen in the refrigerator light\n",
        "Down the stairs, I was there\n",
        "I remember it all too well, yeah\n",
        "And maybe we got lost in translation\n",
        "Maybe I asked for too much\n",
        "But maybe this thing was a masterpiece 'til you tore it all up\n",
        "Running scared, I was there\n",
        "I remember it all too well\n",
        "And you call me up again just to break me like a promise\n",
        "So casually cruel in the name of being honest\n",
        "I'm a crumpled up piece of paper lying here\n",
        "'Cause I remember it all, all, all\n",
        "Too well'''\n",
        "\n",
        "lyric_predict(phrase)"
      ]
    },
    {
      "cell_type": "markdown",
      "metadata": {
        "id": "Qb9NnWA1vFBG"
      },
      "source": [
        "## Adding Context with Bigrams\n"
      ]
    },
    {
      "cell_type": "code",
      "execution_count": 58,
      "metadata": {
        "id": "-ft358PYvIEu"
      },
      "outputs": [],
      "source": [
        "# Text Vectorization layer using bigrams\n",
        "text_vectorization = keras.layers.TextVectorization(\n",
        "    ngrams=2,\n",
        "    output_mode=\"multi_hot\")"
      ]
    },
    {
      "cell_type": "code",
      "execution_count": 59,
      "metadata": {
        "id": "DcN6JsAdvI_g"
      },
      "outputs": [],
      "source": [
        "text_vectorization.adapt([\"the cat sat on a mat.\"])"
      ]
    },
    {
      "cell_type": "code",
      "execution_count": 60,
      "metadata": {
        "id": "aVBuF0i4vJ9q",
        "colab": {
          "base_uri": "https://localhost:8080/"
        },
        "outputId": "bc5522f7-75b7-491b-b19b-155ac2955d38"
      },
      "outputs": [
        {
          "output_type": "execute_result",
          "data": {
            "text/plain": [
              "['[UNK]',\n",
              " 'the cat',\n",
              " 'the',\n",
              " 'sat on',\n",
              " 'sat',\n",
              " 'on a',\n",
              " 'on',\n",
              " 'mat',\n",
              " 'cat sat',\n",
              " 'cat',\n",
              " 'a mat',\n",
              " 'a']"
            ]
          },
          "metadata": {},
          "execution_count": 60
        }
      ],
      "source": [
        "text_vectorization.get_vocabulary()"
      ]
    }
  ],
  "metadata": {
    "colab": {
      "provenance": [],
      "toc_visible": true
    },
    "kernelspec": {
      "display_name": "Python 3",
      "language": "python",
      "name": "python3"
    },
    "language_info": {
      "codemirror_mode": {
        "name": "ipython",
        "version": 3
      },
      "file_extension": ".py",
      "mimetype": "text/x-python",
      "name": "python",
      "nbconvert_exporter": "python",
      "pygments_lexer": "ipython3",
      "version": "3.6.9"
    }
  },
  "nbformat": 4,
  "nbformat_minor": 0
}